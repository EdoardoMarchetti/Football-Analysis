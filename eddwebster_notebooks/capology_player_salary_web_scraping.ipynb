{
 "cells": [
  {
   "attachments": {},
   "cell_type": "markdown",
   "metadata": {},
   "source": [
    "# Capology Player Web Scraping \n",
    "\n",
    "Notebook to scrape raw data from [Capology](https://www.capology.com) using Beatifulsoup and Selenium. \n",
    "\n",
    "In this version I will scrape only the EPL data. Check the original version [here](https://github.com/eddwebster/football_analytics/blob/master/notebooks/1_data_scraping/Capology%20Player%20Salary%20Web%20Scraping.ipynb) to find out data on more legues."
   ]
  },
  {
   "attachments": {},
   "cell_type": "markdown",
   "metadata": {},
   "source": [
    "# 1. Notebook Setup"
   ]
  },
  {
   "attachments": {},
   "cell_type": "markdown",
   "metadata": {},
   "source": [
    "## Libraries and Modules"
   ]
  },
  {
   "cell_type": "code",
   "execution_count": 3,
   "metadata": {},
   "outputs": [
    {
     "name": "stdout",
     "output_type": "stream",
     "text": [
      "Setup Complete\n"
     ]
    }
   ],
   "source": [
    "import platform\n",
    "import sys, getopt\n",
    "assert sys.version_info >= (3,5)\n",
    "import csv\n",
    "\n",
    "%matplotlib inline\n",
    "\n",
    "#Math operation\n",
    "import numpy as np\n",
    "from math import pi\n",
    "\n",
    "#Datetime\n",
    "import datetime\n",
    "from datetime import date \n",
    "import time\n",
    "\n",
    "#Data Processing\n",
    "import pandas as pd\n",
    "import random\n",
    "from io import BytesIO\n",
    "from pathlib import Path\n",
    "\n",
    "#Reading directories\n",
    "import glob\n",
    "import os\n",
    "\n",
    "#Working with JSON\n",
    "import json\n",
    "from pandas.io.json import json_normalize\n",
    "\n",
    "#Web Scraping\n",
    "from selenium import webdriver\n",
    "from bs4 import BeautifulSoup\n",
    "import requests\n",
    "import re\n",
    "\n",
    "#Data Visualization\n",
    "import matplotlib as mpl\n",
    "import matplotlib.pyplot as plt\n",
    "import seaborn as sns\n",
    "plt.style.use('seaborn-whitegrid')\n",
    "import missingno as msno\n",
    "\n",
    "#Progresso Bar\n",
    "import tqdm as tqdm\n",
    "\n",
    "#Display in Jupyter\n",
    "from IPython.display import Image,YouTubeVideo\n",
    "from IPython.core.display import HTML\n",
    "\n",
    "#Ignore warnings\n",
    "import warnings\n",
    "warnings.filterwarnings(action=\"ignore\", message=\"^internal gelsd\")\n",
    "\n",
    "print('Setup Complete')\n",
    "\n"
   ]
  },
  {
   "attachments": {},
   "cell_type": "markdown",
   "metadata": {},
   "source": [
    "## Defined Variables and Lists "
   ]
  },
  {
   "attachments": {},
   "cell_type": "markdown",
   "metadata": {},
   "source": [
    "### Today's Date"
   ]
  },
  {
   "cell_type": "code",
   "execution_count": 5,
   "metadata": {},
   "outputs": [
    {
     "data": {
      "text/plain": [
       "'01052023'"
      ]
     },
     "execution_count": 5,
     "metadata": {},
     "output_type": "execute_result"
    }
   ],
   "source": [
    "#Define today's date\n",
    "today_date = datetime.datetime.now().strftime('%d/%m/%Y').replace('/','')\n",
    "today_date"
   ]
  },
  {
   "attachments": {},
   "cell_type": "markdown",
   "metadata": {},
   "source": [
    "### Season"
   ]
  },
  {
   "cell_type": "code",
   "execution_count": 9,
   "metadata": {},
   "outputs": [
    {
     "data": {
      "text/plain": [
       "('2020/2021', '20/21')"
      ]
     },
     "execution_count": 9,
     "metadata": {},
     "output_type": "execute_result"
    }
   ],
   "source": [
    "season = 2020  # '2020' stands for 20/21 season\n",
    "\n",
    "#'Full season' and 'short season' string\n",
    "full_season_string = str(int(season))+'/'+str(int(season)+1)\n",
    "short_season_string = str(str(int(season))[-2:])+'/'+str(str(int(season)+1)[-2:])\n",
    "full_season_string,short_season_string"
   ]
  },
  {
   "attachments": {},
   "cell_type": "markdown",
   "metadata": {},
   "source": [
    "### Scraping Variables"
   ]
  },
  {
   "cell_type": "code",
   "execution_count": 10,
   "metadata": {},
   "outputs": [],
   "source": [
    "options = webdriver.ChromeOptions()\n",
    "options.add_argument('--headless')\n",
    "options.add_argument('--no-sandbox')\n",
    "options.add_argument('--disable-dev-shm-usage')"
   ]
  },
  {
   "attachments": {},
   "cell_type": "markdown",
   "metadata": {},
   "source": [
    "### Teams and Legues "
   ]
  },
  {
   "cell_type": "code",
   "execution_count": 11,
   "metadata": {},
   "outputs": [],
   "source": [
    "#Premier Legue teams by season\n",
    "\n",
    "## 2016-2017 PL\n",
    "lst_teams_pl_1617 = ['arsenal', 'bournemouth', 'burnley', 'chelsea', 'crystal-palace', 'everton',\n",
    "             'hull-city', 'leicester', 'liverpool', 'manchester-city', 'manchester-united',\n",
    "             'middlesbrough', 'southampton', 'stoke-city', 'sunderland', 'swansea', 'tottenham',\n",
    "             'watford', 'west-bromwich', 'west-ham']\n",
    "\n",
    "## 2017-2018 PL\n",
    "lst_teams_pl_1718 = ['arsenal', 'bournemouth', 'brighton', 'burnley', 'chelsea', 'crystal-palace', 'everton',\n",
    "             'huddersfield', 'leicester', 'liverpool', 'manchester-city', 'manchester-united',\n",
    "             'newcastle', 'southampton', 'stoke-city', 'swansea', 'tottenham',\n",
    "             'watford', 'west-bromwich', 'west-ham']\n",
    "\n",
    "## 2018-2019 PL\n",
    "lst_teams_pl_1819 = ['arsenal', 'bournemouth', 'brighton', 'burnley', 'cardiff', 'chelsea',\n",
    "             'crystal-palace', 'everton', 'fulham', 'huddersfield', 'leicester',\n",
    "             'liverpool', 'manchester-city', 'manchester-united', 'newcastle',\n",
    "             'southampton', 'tottenham', 'watford', 'west-ham', 'wolverhampton']\n",
    "\n",
    "## 2019-2020 PL\n",
    "lst_teams_pl_1920 = ['arsenal', 'aston-villa', 'bournemouth', 'brighton', 'burnley', 'chelsea',\n",
    "             'crystal-palace', 'everton', 'leicester',\n",
    "             'liverpool', 'manchester-city', 'manchester-united', 'newcastle',\n",
    "             'norwich', 'sheffield-united', 'southampton', 'tottenham', 'watford',\n",
    "             'west-ham', 'wolverhampton']\n",
    "\n",
    "## 2020-2021 PL\n",
    "lst_teams_pl_2021 = ['arsenal', 'aston-villa', 'brighton', 'burnley', 'chelsea',\n",
    "             'crystal-palace', 'everton', 'fulham', 'leeds', 'leicester',\n",
    "             'liverpool', 'manchester-city', 'manchester-united', 'newcastle',\n",
    "             'sheffield-united', 'southampton', 'tottenham', 'west-bromwich',\n",
    "             'west-ham', 'wolverhampton']\n",
    "\n",
    "## 2021-2022 PL\n",
    "lst_teams_pl_2122 = ['arsenal', 'aston-villa', 'brentford', 'brighton', 'burnley', 'chelsea',\n",
    "             'crystal-palace', 'everton', 'leeds', 'leicester',\n",
    "             'liverpool', 'manchester-city', 'manchester-united', 'newcastle', 'norwich',\n",
    "             'southampton', 'tottenham', 'watford', 'west-ham', 'wolverhampton']\n",
    "\n",
    "## 2022-2023 PL\n",
    "lst_teams_pl_2223 = ['arsenal', 'aston-villa', 'bournemouth','brentford', 'brighton', 'chelsea',\n",
    "             'crystal-palace', 'everton', 'fulham','leeds', 'leicester',\n",
    "             'liverpool', 'manchester-city', 'manchester-united', 'newcastle', 'nottingham-forest',\n",
    "             'southampton', 'tottenham', 'west-ham', 'wolverhampton']"
   ]
  },
  {
   "attachments": {},
   "cell_type": "markdown",
   "metadata": {},
   "source": [
    "### Season"
   ]
  },
  {
   "cell_type": "code",
   "execution_count": 13,
   "metadata": {},
   "outputs": [],
   "source": [
    "lst_seasons = ['2016-2017', '2017-2018', '2018-2019', '2019-2020', '2020-2021', '2021-2022']"
   ]
  },
  {
   "attachments": {},
   "cell_type": "markdown",
   "metadata": {},
   "source": [
    "## Define filepaths"
   ]
  },
  {
   "cell_type": "code",
   "execution_count": 14,
   "metadata": {},
   "outputs": [
    {
     "data": {
      "text/plain": [
       "'/home/edoardo/Desktop/IoT_2022/Football-Analysis/eddwebster_notebooks'"
      ]
     },
     "execution_count": 14,
     "metadata": {},
     "output_type": "execute_result"
    }
   ],
   "source": [
    "os.getcwd()"
   ]
  },
  {
   "cell_type": "code",
   "execution_count": 15,
   "metadata": {},
   "outputs": [],
   "source": [
    "base_dir = os.path.join('..')\n",
    "\n",
    "data_dir = os.path.join(base_dir, 'data')\n",
    "if not os.path.exists(data_dir):\n",
    "    os.mkdir(data_dir)\n",
    "\n",
    "data_dir_capology = os.path.join(data_dir, 'capology')\n",
    "if not os.path.exists(data_dir_capology):\n",
    "    os.mkdir(data_dir_capology)"
   ]
  },
  {
   "attachments": {},
   "cell_type": "markdown",
   "metadata": {},
   "source": [
    "## Custom Functions (Scrapers)\n",
    "Two different scrapers:\n",
    "\n",
    "1. Previous seasons (```scrape_capology_season_prev```)\n",
    "2. Current seasons (slightly different webpage structure, so needs to be different) (```scrape_capology_season_current```)"
   ]
  },
  {
   "attachments": {},
   "cell_type": "markdown",
   "metadata": {},
   "source": [
    "### Previous season scraper"
   ]
  },
  {
   "cell_type": "code",
   "execution_count": 39,
   "metadata": {},
   "outputs": [],
   "source": [
    "def scrape_capology_seasons_prev(lst_teams, season, comp):\n",
    "\n",
    "    #Print statement\n",
    "    print(f'Scraping for {comp} for the {season} season has now started...')\n",
    "\n",
    "    #Create empty list for DataFrame\n",
    "    dfs_players = []\n",
    "\n",
    "    #Check if the output folder exists\n",
    "    raw_folder = os.path.join(data_dir_capology, 'raw')\n",
    "    if not os.path.join(raw_folder):\n",
    "        os.mkdir(raw_folder)\n",
    "    \n",
    "    comp_folder = os.path.join(raw_folder, f'{comp}')\n",
    "    if not os.path.join(comp_folder):\n",
    "        os.mkdir(comp_folder)\n",
    "\n",
    "    season_folder = os.path.join(raw_folder, f'{season}')\n",
    "    if not os.path.join(season_folder):\n",
    "        os.mkdir(season_folder)\n",
    "\n",
    "\n",
    "    for team in lst_teams:\n",
    "        csv_file_path = os.path.join(season_folder, f'{team}_{comp}_{season}.csv')\n",
    "        if not os.path.exists(csv_file_path):\n",
    "            #Define the url\n",
    "            url = f'https://www.capology.com/club/{team}/salaries/{season}/'\n",
    "            #Print statement\n",
    "            print(f'Scraping {team} for the {season} season')\n",
    "\n",
    "            wd = webdriver.Chrome('chromedriver', options=options)\n",
    "            wd.get(url)\n",
    "            html = wd.page_source\n",
    "            time.sleep(5)\n",
    "            html = wd.page_source\n",
    "            df = pd.read_html(html, header=0)[1]\n",
    "            print(df.head())\n",
    "            ### Data Engineering\n",
    "            #Remove the first row\n",
    "            #df = df.iloc[1:,:]   \n",
    "            \n",
    "            #Rename the columns\n",
    "            df = df.rename(columns = df.iloc[0])\n",
    "            df.columns = list(\n",
    "                                map(\n",
    "                                    lambda col: col if not('Pos' in col) and not('Country' in col)\\\n",
    "                                        else ('Position' if 'Pos' in col else 'Country'), list(df.columns)\n",
    "                                )\n",
    "                            )\n",
    "            print(df.columns)\n",
    "            #Remove the last column\n",
    "            df = df[:-1]\n",
    "            #print(df.head())\n",
    "            #Remove the first row\n",
    "            df = df.iloc[1:,:]\n",
    "            #print(df.head())\n",
    "            #reset the index \n",
    "            df = df.reset_index()\n",
    "            #print(df.head())\n",
    "            #Drop the index and the Rank columns\n",
    "            df = df.drop(['index', 'Rank'], axis = 1)\n",
    "            #Add custom columns\n",
    "            df['Team'] = team\n",
    "            df['Team'] = df['Team'].str.replace('-', ' ').str.title().str.replace('Fc', 'FC').str.replace('Ac', 'AC')\n",
    "            df['League'] = comp\n",
    "            df['League'] = df['League'].str.reaplce('-', ' ').str.title()\n",
    "            df['Season'] = season\n",
    "            print(f'Saving DataFrame of {team} for the {season} season')\n",
    "\n",
    "            ### Save to csv\n",
    "            df.to_csv(csv_file_path)\n",
    "\n",
    "            ### Append to joint DataFrame\n",
    "            dfs_players.append(df)\n",
    "        else:\n",
    "            df = pd.read_csv(csv_file_path, index_col=None, header=0)\n",
    "            print(f'{team} already scraped and saved for the {season} season')\n",
    "\n",
    "            ### Append to joint DataFrame\n",
    "            dfs_players.append(df)\n",
    "\n",
    "    ### Concatenate all the DFS\n",
    "    df_players_all = pd.concat(dfs_players)\n",
    "\n",
    "    ### Engineer unified data\n",
    "    df_players_all['Team'] = df_players_all['Team'].str.replace('-',' ').str.title().str.replace('Fc','FC')\n",
    "    df_players_all['Season'] = df_players_all['Season'].str.replace('-',' ').str.title()\n",
    "\n",
    "    #Save to csv\n",
    "    df_players_all.to_csv(os.path.join(season_folder,f'all_{comp}_{season}.csv'))\n",
    "\n",
    "    ### Print statement \n",
    "    print(f'Scraping for {comp} for the {season} season is now complete')\n",
    "\n",
    "    return df_players_all"
   ]
  },
  {
   "cell_type": "code",
   "execution_count": 40,
   "metadata": {},
   "outputs": [
    {
     "data": {
      "text/plain": [
       "['Player',\n",
       " 'Gross P/W(GBP)',\n",
       " 'Gross P/Y(GBP)',\n",
       " 'Adj. Gross(GBP)',\n",
       " 'Position',\n",
       " 'Age',\n",
       " 'Country']"
      ]
     },
     "execution_count": 40,
     "metadata": {},
     "output_type": "execute_result"
    }
   ],
   "source": [
    "cols = ['Player', 'Gross P/W(GBP)', 'Gross P/Y(GBP)', 'Adj. Gross(GBP)',\n",
    "       'Pos. DFKM', 'Age',\n",
    "       \"Country BelgiumBosnia-HerzegovinaBrazilCote d'IvoireCote d'IvoireCote d'IvoireCote d'IvoireCote d'IvoireCote d'IvoireCote d'IvoireCote d'IvoireCote d'IvoireCote d'IvoireCote d'IvoireCote d'IvoireCote d'IvoireCote d'IvoireCote d'IvoireCote d'IvoireCote d'IvoireCote d'IvoireCote d'IvoireCote d'IvoireCote d'IvoireCote d'IvoireCote d'IvoireCote d'IvoireCote d'IvoireCote d'IvoireCote d'IvoireCote d'IvoireCote d'IvoireCote d'IvoireCote d'IvoireCote d'IvoireCote d'IvoireCote d'IvoireCote d'IvoireCote d'IvoireCote d'IvoireCote d'IvoireCote d'IvoireCote d'IvoireCote d'IvoireCote d'IvoireCote d'IvoireCote d'IvoireCote d'IvoireCote d'IvoireCote d'IvoireCote d'IvoireCote d'IvoireCote d'IvoireCote d'IvoireCote d'IvoireCote d'IvoireCote d'IvoireCote d'IvoireCote d'IvoireCote d'IvoireCote d'IvoireCote d'IvoireCote d'IvoireCote d'IvoireCote d'IvoireCote d'IvoireCote d'IvoireCote d'IvoireCote d'IvoireCote d'IvoireCote d'IvoireCote d'IvoireCote d'IvoireCote d'IvoireCote d'IvoireCote d'IvoireCote d'IvoireCote d'IvoireCote d'IvoireCote d'IvoireCote d'IvoireCote d'IvoireCote d'IvoireCote d'IvoireCote d'IvoireCote d'IvoireCote d'IvoireCote d'IvoireCote d'IvoireCote d'IvoireCote d'IvoireCote d'IvoireCote d'IvoireCote d'IvoireCote d'IvoireCote d'IvoireCote d'IvoireCote d'IvoireCote d'IvoireEgyptEnglandFranceGabonGermanyGhanaJapanNorwayPortugalScotlandSpainSwitzerland\"]\n",
    "\n",
    "new_cols = list(\n",
    "    map(\n",
    "        lambda col: col if not('Pos' in col) and not('Country' in col)\\\n",
    "            else ('Position' if 'Pos' in col else 'Country'), cols\n",
    "    )\n",
    ")\n",
    "new_cols"
   ]
  },
  {
   "cell_type": "code",
   "execution_count": 41,
   "metadata": {},
   "outputs": [
    {
     "name": "stdout",
     "output_type": "stream",
     "text": [
      "Scraping for premier-league for the 2021-2022 season has now started...\n",
      "Scraping arsenal for the 2021-2022 season\n",
      "                  Unnamed: 0  ...                                              Bio.2\n",
      "0                     Player  ...  Country BelgiumBosnia-HerzegovinaBrazilCote d'...\n",
      "1  Pierre-Emerick Aubameyang  ...                                              Gabon\n",
      "2              Thomas Partey  ...                                              Ghana\n",
      "3        Alexandre Lacazette  ...                                             France\n",
      "4               Nicolas Pépé  ...                                      Cote d'Ivoire\n",
      "\n",
      "[5 rows x 7 columns]\n",
      "Index(['Player', 'Gross P/W(GBP)', 'Gross P/Y(GBP)', 'Adj. Gross(GBP)',\n",
      "       'Position', 'Age', 'Country'],\n",
      "      dtype='object')\n"
     ]
    },
    {
     "ename": "KeyError",
     "evalue": "\"['Rank'] not found in axis\"",
     "output_type": "error",
     "traceback": [
      "\u001b[0;31m---------------------------------------------------------------------------\u001b[0m",
      "\u001b[0;31mKeyError\u001b[0m                                  Traceback (most recent call last)",
      "\u001b[0;32m/tmp/ipykernel_32559/2855300971.py\u001b[0m in \u001b[0;36m<module>\u001b[0;34m\u001b[0m\n\u001b[0;32m----> 1\u001b[0;31m \u001b[0mscrape_capology_seasons_prev\u001b[0m\u001b[0;34m(\u001b[0m\u001b[0mlst_teams_pl_1617\u001b[0m\u001b[0;34m,\u001b[0m \u001b[0;34m'2021-2022'\u001b[0m\u001b[0;34m,\u001b[0m \u001b[0;34m'premier-league'\u001b[0m\u001b[0;34m)\u001b[0m\u001b[0;34m\u001b[0m\u001b[0;34m\u001b[0m\u001b[0m\n\u001b[0m",
      "\u001b[0;32m/tmp/ipykernel_32559/3147979370.py\u001b[0m in \u001b[0;36mscrape_capology_seasons_prev\u001b[0;34m(lst_teams, season, comp)\u001b[0m\n\u001b[1;32m     59\u001b[0m             \u001b[0;31m#print(df.head())\u001b[0m\u001b[0;34m\u001b[0m\u001b[0;34m\u001b[0m\u001b[0m\n\u001b[1;32m     60\u001b[0m             \u001b[0;31m#Drop the index and the Rank columns\u001b[0m\u001b[0;34m\u001b[0m\u001b[0;34m\u001b[0m\u001b[0m\n\u001b[0;32m---> 61\u001b[0;31m             \u001b[0mdf\u001b[0m \u001b[0;34m=\u001b[0m \u001b[0mdf\u001b[0m\u001b[0;34m.\u001b[0m\u001b[0mdrop\u001b[0m\u001b[0;34m(\u001b[0m\u001b[0;34m[\u001b[0m\u001b[0;34m'index'\u001b[0m\u001b[0;34m,\u001b[0m \u001b[0;34m'Rank'\u001b[0m\u001b[0;34m]\u001b[0m\u001b[0;34m,\u001b[0m \u001b[0maxis\u001b[0m \u001b[0;34m=\u001b[0m \u001b[0;36m1\u001b[0m\u001b[0;34m)\u001b[0m\u001b[0;34m\u001b[0m\u001b[0;34m\u001b[0m\u001b[0m\n\u001b[0m\u001b[1;32m     62\u001b[0m             \u001b[0;31m#Add custom columns\u001b[0m\u001b[0;34m\u001b[0m\u001b[0;34m\u001b[0m\u001b[0m\n\u001b[1;32m     63\u001b[0m             \u001b[0mdf\u001b[0m\u001b[0;34m[\u001b[0m\u001b[0;34m'Team'\u001b[0m\u001b[0;34m]\u001b[0m \u001b[0;34m=\u001b[0m \u001b[0mteam\u001b[0m\u001b[0;34m\u001b[0m\u001b[0;34m\u001b[0m\u001b[0m\n",
      "\u001b[0;32m~/anaconda3/envs/football/lib/python3.10/site-packages/pandas/util/_decorators.py\u001b[0m in \u001b[0;36mwrapper\u001b[0;34m(*args, **kwargs)\u001b[0m\n\u001b[1;32m    309\u001b[0m                     \u001b[0mstacklevel\u001b[0m\u001b[0;34m=\u001b[0m\u001b[0mstacklevel\u001b[0m\u001b[0;34m,\u001b[0m\u001b[0;34m\u001b[0m\u001b[0;34m\u001b[0m\u001b[0m\n\u001b[1;32m    310\u001b[0m                 )\n\u001b[0;32m--> 311\u001b[0;31m             \u001b[0;32mreturn\u001b[0m \u001b[0mfunc\u001b[0m\u001b[0;34m(\u001b[0m\u001b[0;34m*\u001b[0m\u001b[0margs\u001b[0m\u001b[0;34m,\u001b[0m \u001b[0;34m**\u001b[0m\u001b[0mkwargs\u001b[0m\u001b[0;34m)\u001b[0m\u001b[0;34m\u001b[0m\u001b[0;34m\u001b[0m\u001b[0m\n\u001b[0m\u001b[1;32m    312\u001b[0m \u001b[0;34m\u001b[0m\u001b[0m\n\u001b[1;32m    313\u001b[0m         \u001b[0;32mreturn\u001b[0m \u001b[0mwrapper\u001b[0m\u001b[0;34m\u001b[0m\u001b[0;34m\u001b[0m\u001b[0m\n",
      "\u001b[0;32m~/anaconda3/envs/football/lib/python3.10/site-packages/pandas/core/frame.py\u001b[0m in \u001b[0;36mdrop\u001b[0;34m(self, labels, axis, index, columns, level, inplace, errors)\u001b[0m\n\u001b[1;32m   4955\u001b[0m                 \u001b[0mweight\u001b[0m  \u001b[0;36m1.0\u001b[0m     \u001b[0;36m0.8\u001b[0m\u001b[0;34m\u001b[0m\u001b[0;34m\u001b[0m\u001b[0m\n\u001b[1;32m   4956\u001b[0m         \"\"\"\n\u001b[0;32m-> 4957\u001b[0;31m         return super().drop(\n\u001b[0m\u001b[1;32m   4958\u001b[0m             \u001b[0mlabels\u001b[0m\u001b[0;34m=\u001b[0m\u001b[0mlabels\u001b[0m\u001b[0;34m,\u001b[0m\u001b[0;34m\u001b[0m\u001b[0;34m\u001b[0m\u001b[0m\n\u001b[1;32m   4959\u001b[0m             \u001b[0maxis\u001b[0m\u001b[0;34m=\u001b[0m\u001b[0maxis\u001b[0m\u001b[0;34m,\u001b[0m\u001b[0;34m\u001b[0m\u001b[0;34m\u001b[0m\u001b[0m\n",
      "\u001b[0;32m~/anaconda3/envs/football/lib/python3.10/site-packages/pandas/core/generic.py\u001b[0m in \u001b[0;36mdrop\u001b[0;34m(self, labels, axis, index, columns, level, inplace, errors)\u001b[0m\n\u001b[1;32m   4265\u001b[0m         \u001b[0;32mfor\u001b[0m \u001b[0maxis\u001b[0m\u001b[0;34m,\u001b[0m \u001b[0mlabels\u001b[0m \u001b[0;32min\u001b[0m \u001b[0maxes\u001b[0m\u001b[0;34m.\u001b[0m\u001b[0mitems\u001b[0m\u001b[0;34m(\u001b[0m\u001b[0;34m)\u001b[0m\u001b[0;34m:\u001b[0m\u001b[0;34m\u001b[0m\u001b[0;34m\u001b[0m\u001b[0m\n\u001b[1;32m   4266\u001b[0m             \u001b[0;32mif\u001b[0m \u001b[0mlabels\u001b[0m \u001b[0;32mis\u001b[0m \u001b[0;32mnot\u001b[0m \u001b[0;32mNone\u001b[0m\u001b[0;34m:\u001b[0m\u001b[0;34m\u001b[0m\u001b[0;34m\u001b[0m\u001b[0m\n\u001b[0;32m-> 4267\u001b[0;31m                 \u001b[0mobj\u001b[0m \u001b[0;34m=\u001b[0m \u001b[0mobj\u001b[0m\u001b[0;34m.\u001b[0m\u001b[0m_drop_axis\u001b[0m\u001b[0;34m(\u001b[0m\u001b[0mlabels\u001b[0m\u001b[0;34m,\u001b[0m \u001b[0maxis\u001b[0m\u001b[0;34m,\u001b[0m \u001b[0mlevel\u001b[0m\u001b[0;34m=\u001b[0m\u001b[0mlevel\u001b[0m\u001b[0;34m,\u001b[0m \u001b[0merrors\u001b[0m\u001b[0;34m=\u001b[0m\u001b[0merrors\u001b[0m\u001b[0;34m)\u001b[0m\u001b[0;34m\u001b[0m\u001b[0;34m\u001b[0m\u001b[0m\n\u001b[0m\u001b[1;32m   4268\u001b[0m \u001b[0;34m\u001b[0m\u001b[0m\n\u001b[1;32m   4269\u001b[0m         \u001b[0;32mif\u001b[0m \u001b[0minplace\u001b[0m\u001b[0;34m:\u001b[0m\u001b[0;34m\u001b[0m\u001b[0;34m\u001b[0m\u001b[0m\n",
      "\u001b[0;32m~/anaconda3/envs/football/lib/python3.10/site-packages/pandas/core/generic.py\u001b[0m in \u001b[0;36m_drop_axis\u001b[0;34m(self, labels, axis, level, errors, consolidate, only_slice)\u001b[0m\n\u001b[1;32m   4309\u001b[0m                 \u001b[0mnew_axis\u001b[0m \u001b[0;34m=\u001b[0m \u001b[0maxis\u001b[0m\u001b[0;34m.\u001b[0m\u001b[0mdrop\u001b[0m\u001b[0;34m(\u001b[0m\u001b[0mlabels\u001b[0m\u001b[0;34m,\u001b[0m \u001b[0mlevel\u001b[0m\u001b[0;34m=\u001b[0m\u001b[0mlevel\u001b[0m\u001b[0;34m,\u001b[0m \u001b[0merrors\u001b[0m\u001b[0;34m=\u001b[0m\u001b[0merrors\u001b[0m\u001b[0;34m)\u001b[0m\u001b[0;34m\u001b[0m\u001b[0;34m\u001b[0m\u001b[0m\n\u001b[1;32m   4310\u001b[0m             \u001b[0;32melse\u001b[0m\u001b[0;34m:\u001b[0m\u001b[0;34m\u001b[0m\u001b[0;34m\u001b[0m\u001b[0m\n\u001b[0;32m-> 4311\u001b[0;31m                 \u001b[0mnew_axis\u001b[0m \u001b[0;34m=\u001b[0m \u001b[0maxis\u001b[0m\u001b[0;34m.\u001b[0m\u001b[0mdrop\u001b[0m\u001b[0;34m(\u001b[0m\u001b[0mlabels\u001b[0m\u001b[0;34m,\u001b[0m \u001b[0merrors\u001b[0m\u001b[0;34m=\u001b[0m\u001b[0merrors\u001b[0m\u001b[0;34m)\u001b[0m\u001b[0;34m\u001b[0m\u001b[0;34m\u001b[0m\u001b[0m\n\u001b[0m\u001b[1;32m   4312\u001b[0m             \u001b[0mindexer\u001b[0m \u001b[0;34m=\u001b[0m \u001b[0maxis\u001b[0m\u001b[0;34m.\u001b[0m\u001b[0mget_indexer\u001b[0m\u001b[0;34m(\u001b[0m\u001b[0mnew_axis\u001b[0m\u001b[0;34m)\u001b[0m\u001b[0;34m\u001b[0m\u001b[0;34m\u001b[0m\u001b[0m\n\u001b[1;32m   4313\u001b[0m \u001b[0;34m\u001b[0m\u001b[0m\n",
      "\u001b[0;32m~/anaconda3/envs/football/lib/python3.10/site-packages/pandas/core/indexes/base.py\u001b[0m in \u001b[0;36mdrop\u001b[0;34m(self, labels, errors)\u001b[0m\n\u001b[1;32m   6659\u001b[0m         \u001b[0;32mif\u001b[0m \u001b[0mmask\u001b[0m\u001b[0;34m.\u001b[0m\u001b[0many\u001b[0m\u001b[0;34m(\u001b[0m\u001b[0;34m)\u001b[0m\u001b[0;34m:\u001b[0m\u001b[0;34m\u001b[0m\u001b[0;34m\u001b[0m\u001b[0m\n\u001b[1;32m   6660\u001b[0m             \u001b[0;32mif\u001b[0m \u001b[0merrors\u001b[0m \u001b[0;34m!=\u001b[0m \u001b[0;34m\"ignore\"\u001b[0m\u001b[0;34m:\u001b[0m\u001b[0;34m\u001b[0m\u001b[0;34m\u001b[0m\u001b[0m\n\u001b[0;32m-> 6661\u001b[0;31m                 \u001b[0;32mraise\u001b[0m \u001b[0mKeyError\u001b[0m\u001b[0;34m(\u001b[0m\u001b[0;34mf\"{list(labels[mask])} not found in axis\"\u001b[0m\u001b[0;34m)\u001b[0m\u001b[0;34m\u001b[0m\u001b[0;34m\u001b[0m\u001b[0m\n\u001b[0m\u001b[1;32m   6662\u001b[0m             \u001b[0mindexer\u001b[0m \u001b[0;34m=\u001b[0m \u001b[0mindexer\u001b[0m\u001b[0;34m[\u001b[0m\u001b[0;34m~\u001b[0m\u001b[0mmask\u001b[0m\u001b[0;34m]\u001b[0m\u001b[0;34m\u001b[0m\u001b[0;34m\u001b[0m\u001b[0m\n\u001b[1;32m   6663\u001b[0m         \u001b[0;32mreturn\u001b[0m \u001b[0mself\u001b[0m\u001b[0;34m.\u001b[0m\u001b[0mdelete\u001b[0m\u001b[0;34m(\u001b[0m\u001b[0mindexer\u001b[0m\u001b[0;34m)\u001b[0m\u001b[0;34m\u001b[0m\u001b[0;34m\u001b[0m\u001b[0m\n",
      "\u001b[0;31mKeyError\u001b[0m: \"['Rank'] not found in axis\""
     ]
    }
   ],
   "source": [
    "scrape_capology_seasons_prev(lst_teams_pl_1617, '2021-2022', 'premier-league')\n"
   ]
  },
  {
   "attachments": {},
   "cell_type": "markdown",
   "metadata": {},
   "source": [
    "### Current season scraper"
   ]
  },
  {
   "cell_type": "markdown",
   "metadata": {},
   "source": []
  }
 ],
 "metadata": {
  "kernelspec": {
   "display_name": "football",
   "language": "python",
   "name": "python3"
  },
  "language_info": {
   "codemirror_mode": {
    "name": "ipython",
    "version": 3
   },
   "file_extension": ".py",
   "mimetype": "text/x-python",
   "name": "python",
   "nbconvert_exporter": "python",
   "pygments_lexer": "ipython3",
   "version": "3.10.4"
  },
  "orig_nbformat": 4
 },
 "nbformat": 4,
 "nbformat_minor": 2
}
